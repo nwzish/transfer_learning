{
 "cells": [
  {
   "cell_type": "code",
   "execution_count": 1,
   "metadata": {},
   "outputs": [],
   "source": [
    "import os\n",
    "import random\n",
    "from scipy import ndarray\n",
    "import pandas as pd"
   ]
  },
  {
   "cell_type": "code",
   "execution_count": 2,
   "metadata": {},
   "outputs": [],
   "source": [
    "# image processing library\n",
    "import skimage as sk\n",
    "from skimage import transform\n",
    "from skimage import util\n",
    "from skimage import io\n",
    "import numpy as np"
   ]
  },
  {
   "cell_type": "code",
   "execution_count": 3,
   "metadata": {},
   "outputs": [],
   "source": [
    "def random_rotation(image_array: ndarray):\n",
    "    # pick a random degree of rotation between 25% on the left and 25% on the right\n",
    "    random_degree = random.uniform(-25, 25)\n",
    "    return sk.transform.rotate(image_array, random_degree)\n",
    "\n",
    "def random_noise(image_array: ndarray):\n",
    "    # add random noise to the image\n",
    "    return sk.util.random_noise(image_array)\n",
    "\n",
    "def horizontal_flip(image_array: ndarray):\n",
    "    # horizontal flip doesn't need skimage, it's easy as flipping the image array of pixels !\n",
    "    return image_array[:, ::-1]\n",
    "\n",
    "def gray_scale(image_array: ndarray):\n",
    "    \n",
    "    return sk.color.rgb2gray(image_array)\n",
    "\n",
    "def color_inversion(image_array: ndarray):\n",
    "  \n",
    "    return sk.util.invert(image_array)\n",
    "\n",
    "def rescale_intensity(image_array: ndarray):\n",
    "    v_min,v_max = np.percentile(image_array , tuple(np.random.uniform(low = 0.2,high=99.8,size=2)))\n",
    "    return sk.exposure.rescale_intensity(image_array,in_range = (v_min,v_max))\n",
    "\n",
    "def gamma_adjust(image_array: ndarray):\n",
    "    \n",
    "    return sk.exposure.adjust_gamma(image_array,gamma = random.uniform(0,1), gain = random.uniform(.5,1))\n",
    "\n",
    "def log_adjust(image_array: ndarray):\n",
    "    \n",
    "    return sk.exposure.adjust_log(image_array)\n",
    "\n",
    "def sigmoid_adjust(image_array: ndarray):\n",
    "    \n",
    "    return sk.exposure.adjust_sigmoid(image_array)\n"
   ]
  },
  {
   "cell_type": "code",
   "execution_count": 4,
   "metadata": {},
   "outputs": [],
   "source": [
    "# dictionary of the transformations we defined earlier\n",
    "available_transformations = {\n",
    "    'rotate': random_rotation,\n",
    "    'noise': random_noise,\n",
    "    'horizontal_flip': horizontal_flip,\n",
    "    'color_inversion': color_inversion,\n",
    "    'rescale_intensity':rescale_intensity,\n",
    "    'gamma_adjust':gamma_adjust,\n",
    "    'log_adjust':log_adjust,\n",
    "    'sigmoid_adjust': sigmoid_adjust\n",
    "}\n",
    "global numm\n",
    "numm = 13001\n",
    "folder_path = 'train'\n",
    "\n",
    "\n"
   ]
  },
  {
   "cell_type": "code",
   "execution_count": 5,
   "metadata": {},
   "outputs": [],
   "source": [
    "def generate(images,num_files_desired,num):\n",
    "    num_generated_files = 1\n",
    "    while num_generated_files <= num_files_desired:\n",
    "        # random image from the folder\n",
    "        image_path = random.choice(images)\n",
    "        # read image as an two dimensional array of pixels\n",
    "        image_to_transform = sk.io.imread(image_path)\n",
    "        # random num of transformation to apply\n",
    "        num_transformations_to_apply = random.randint(1, len(available_transformations))\n",
    "\n",
    "        num_transformations = 0\n",
    "        transformed_image = None\n",
    "        while num_transformations <= num_transformations_to_apply:\n",
    "            # random transformation to apply for a single image\n",
    "            key = random.choice(list(available_transformations))\n",
    "            transformed_image = available_transformations[key](image_to_transform)\n",
    "            num_transformations += 1\n",
    "\n",
    "        new_file_path = '%s/Img-%s.jpg' % (\"new\", num)\n",
    "        num+=1\n",
    "        # write image to the disk\n",
    "        io.imsave(new_file_path, transformed_image)\n",
    "        num_generated_files += 1\n",
    "    return num"
   ]
  },
  {
   "cell_type": "code",
   "execution_count": 6,
   "metadata": {},
   "outputs": [],
   "source": [
    "def image_path(key,dataframe):\n",
    "    image = [folder_path+'/'+file for file , animal in dataframe.values if animal == key]\n",
    "#     filename = []\n",
    "#     for file,animal in tqdm(dataframe.items,miniters = 1):\n",
    "#         if(animal==key):\n",
    "#             filename.append(file)\n",
    "            \n",
    "    return image\n"
   ]
  },
  {
   "cell_type": "code",
   "execution_count": 7,
   "metadata": {},
   "outputs": [],
   "source": [
    "# find all files paths from the folder\n",
    "# images = [os.path.join(folder_path, f) for f in os.listdir(folder_path) if os.path.isfile(os.path.join(folder_path, f))]\n",
    "train = pd.read_csv('train.csv')\n",
    "category = pd.read_csv('category_list.csv')\n",
    "count = train['Animal'].value_counts()"
   ]
  },
  {
   "cell_type": "code",
   "execution_count": 8,
   "metadata": {},
   "outputs": [
    {
     "name": "stdout",
     "output_type": "stream",
     "text": [
      "   category    animal\n",
      "0         0  antelope\n",
      "1         1       bat\n",
      "2         2    beaver\n",
      "3         3    bobcat\n",
      "4         4   buffalo\n"
     ]
    }
   ],
   "source": [
    "print(category.head())"
   ]
  },
  {
   "cell_type": "code",
   "execution_count": 9,
   "metadata": {},
   "outputs": [
    {
     "name": "stdout",
     "output_type": "stream",
     "text": [
      "    Image_id           Animal\n",
      "0  Img-1.jpg     hippopotamus\n",
      "1  Img-2.jpg         squirrel\n",
      "2  Img-3.jpg     grizzly+bear\n",
      "3  Img-4.jpg               ox\n",
      "4  Img-5.jpg  german+shepherd\n"
     ]
    }
   ],
   "source": [
    "print(train.head())"
   ]
  },
  {
   "cell_type": "code",
   "execution_count": null,
   "metadata": {},
   "outputs": [],
   "source": [
    "for i,j in category.values:\n",
    "    c = count.loc[j]\n",
    "    print(c)\n",
    "    if c<1000:\n",
    "        images = image_path(j,train)\n",
    "        numm = generate(images,1000-c,numm)"
   ]
  }
 ],
 "metadata": {
  "kernelspec": {
   "display_name": "Python 3",
   "language": "python",
   "name": "python3"
  },
  "language_info": {
   "codemirror_mode": {
    "name": "ipython",
    "version": 3
   },
   "file_extension": ".py",
   "mimetype": "text/x-python",
   "name": "python",
   "nbconvert_exporter": "python",
   "pygments_lexer": "ipython3",
   "version": "3.6.4"
  }
 },
 "nbformat": 4,
 "nbformat_minor": 2
}
